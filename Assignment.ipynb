{
  "nbformat": 4,
  "nbformat_minor": 0,
  "metadata": {
    "colab": {
      "name": "Assignment",
      "provenance": []
    },
    "kernelspec": {
      "name": "python3",
      "display_name": "Python 3"
    },
    "accelerator": "GPU"
  },
  "cells": [
    {
      "cell_type": "code",
      "metadata": {
        "id": "0yR83V0rVVkd",
        "colab_type": "code",
        "colab": {}
      },
      "source": [
        "# Import the pandas library to read our dataset\n",
        "import pandas as pd\n",
        "\n",
        "# Get the train/test split package from sklearn for preparing our dataset to\n",
        "# train and test the model with\n",
        "from sklearn.model_selection import train_test_split\n",
        "\n",
        "# Import the numpy library to work with and manipulate the data\n",
        "import numpy as np"
      ],
      "execution_count": 0,
      "outputs": []
    },
    {
      "cell_type": "code",
      "metadata": {
        "id": "tTo_kDqkVZo0",
        "colab_type": "code",
        "colab": {}
      },
      "source": [
        "data = pd.read_csv('https://raw.githubusercontent.com/cacoderquan/Sentiment-Analysis-on-the-Rotten-Tomatoes-movie-review-dataset/master/train.tsv', sep='\\t')"
      ],
      "execution_count": 0,
      "outputs": []
    },
    {
      "cell_type": "code",
      "metadata": {
        "id": "3zP4QWCMVb0m",
        "colab_type": "code",
        "outputId": "ef1304c9-b529-411a-d25c-0bc4046a5c71",
        "colab": {
          "base_uri": "https://localhost:8080/",
          "height": 662
        }
      },
      "source": [
        "# Check the head of the dataframe\n",
        "data.head(20)"
      ],
      "execution_count": 5,
      "outputs": [
        {
          "output_type": "execute_result",
          "data": {
            "text/html": [
              "<div>\n",
              "<style scoped>\n",
              "    .dataframe tbody tr th:only-of-type {\n",
              "        vertical-align: middle;\n",
              "    }\n",
              "\n",
              "    .dataframe tbody tr th {\n",
              "        vertical-align: top;\n",
              "    }\n",
              "\n",
              "    .dataframe thead th {\n",
              "        text-align: right;\n",
              "    }\n",
              "</style>\n",
              "<table border=\"1\" class=\"dataframe\">\n",
              "  <thead>\n",
              "    <tr style=\"text-align: right;\">\n",
              "      <th></th>\n",
              "      <th>PhraseId</th>\n",
              "      <th>SentenceId</th>\n",
              "      <th>Phrase</th>\n",
              "      <th>Sentiment</th>\n",
              "    </tr>\n",
              "  </thead>\n",
              "  <tbody>\n",
              "    <tr>\n",
              "      <th>0</th>\n",
              "      <td>1</td>\n",
              "      <td>1</td>\n",
              "      <td>A series of escapades demonstrating the adage ...</td>\n",
              "      <td>1</td>\n",
              "    </tr>\n",
              "    <tr>\n",
              "      <th>1</th>\n",
              "      <td>2</td>\n",
              "      <td>1</td>\n",
              "      <td>A series of escapades demonstrating the adage ...</td>\n",
              "      <td>2</td>\n",
              "    </tr>\n",
              "    <tr>\n",
              "      <th>2</th>\n",
              "      <td>3</td>\n",
              "      <td>1</td>\n",
              "      <td>A series</td>\n",
              "      <td>2</td>\n",
              "    </tr>\n",
              "    <tr>\n",
              "      <th>3</th>\n",
              "      <td>4</td>\n",
              "      <td>1</td>\n",
              "      <td>A</td>\n",
              "      <td>2</td>\n",
              "    </tr>\n",
              "    <tr>\n",
              "      <th>4</th>\n",
              "      <td>5</td>\n",
              "      <td>1</td>\n",
              "      <td>series</td>\n",
              "      <td>2</td>\n",
              "    </tr>\n",
              "    <tr>\n",
              "      <th>5</th>\n",
              "      <td>6</td>\n",
              "      <td>1</td>\n",
              "      <td>of escapades demonstrating the adage that what...</td>\n",
              "      <td>2</td>\n",
              "    </tr>\n",
              "    <tr>\n",
              "      <th>6</th>\n",
              "      <td>7</td>\n",
              "      <td>1</td>\n",
              "      <td>of</td>\n",
              "      <td>2</td>\n",
              "    </tr>\n",
              "    <tr>\n",
              "      <th>7</th>\n",
              "      <td>8</td>\n",
              "      <td>1</td>\n",
              "      <td>escapades demonstrating the adage that what is...</td>\n",
              "      <td>2</td>\n",
              "    </tr>\n",
              "    <tr>\n",
              "      <th>8</th>\n",
              "      <td>9</td>\n",
              "      <td>1</td>\n",
              "      <td>escapades</td>\n",
              "      <td>2</td>\n",
              "    </tr>\n",
              "    <tr>\n",
              "      <th>9</th>\n",
              "      <td>10</td>\n",
              "      <td>1</td>\n",
              "      <td>demonstrating the adage that what is good for ...</td>\n",
              "      <td>2</td>\n",
              "    </tr>\n",
              "    <tr>\n",
              "      <th>10</th>\n",
              "      <td>11</td>\n",
              "      <td>1</td>\n",
              "      <td>demonstrating the adage</td>\n",
              "      <td>2</td>\n",
              "    </tr>\n",
              "    <tr>\n",
              "      <th>11</th>\n",
              "      <td>12</td>\n",
              "      <td>1</td>\n",
              "      <td>demonstrating</td>\n",
              "      <td>2</td>\n",
              "    </tr>\n",
              "    <tr>\n",
              "      <th>12</th>\n",
              "      <td>13</td>\n",
              "      <td>1</td>\n",
              "      <td>the adage</td>\n",
              "      <td>2</td>\n",
              "    </tr>\n",
              "    <tr>\n",
              "      <th>13</th>\n",
              "      <td>14</td>\n",
              "      <td>1</td>\n",
              "      <td>the</td>\n",
              "      <td>2</td>\n",
              "    </tr>\n",
              "    <tr>\n",
              "      <th>14</th>\n",
              "      <td>15</td>\n",
              "      <td>1</td>\n",
              "      <td>adage</td>\n",
              "      <td>2</td>\n",
              "    </tr>\n",
              "    <tr>\n",
              "      <th>15</th>\n",
              "      <td>16</td>\n",
              "      <td>1</td>\n",
              "      <td>that what is good for the goose</td>\n",
              "      <td>2</td>\n",
              "    </tr>\n",
              "    <tr>\n",
              "      <th>16</th>\n",
              "      <td>17</td>\n",
              "      <td>1</td>\n",
              "      <td>that</td>\n",
              "      <td>2</td>\n",
              "    </tr>\n",
              "    <tr>\n",
              "      <th>17</th>\n",
              "      <td>18</td>\n",
              "      <td>1</td>\n",
              "      <td>what is good for the goose</td>\n",
              "      <td>2</td>\n",
              "    </tr>\n",
              "    <tr>\n",
              "      <th>18</th>\n",
              "      <td>19</td>\n",
              "      <td>1</td>\n",
              "      <td>what</td>\n",
              "      <td>2</td>\n",
              "    </tr>\n",
              "    <tr>\n",
              "      <th>19</th>\n",
              "      <td>20</td>\n",
              "      <td>1</td>\n",
              "      <td>is good for the goose</td>\n",
              "      <td>2</td>\n",
              "    </tr>\n",
              "  </tbody>\n",
              "</table>\n",
              "</div>"
            ],
            "text/plain": [
              "    PhraseId  ...  Sentiment\n",
              "0          1  ...          1\n",
              "1          2  ...          2\n",
              "2          3  ...          2\n",
              "3          4  ...          2\n",
              "4          5  ...          2\n",
              "5          6  ...          2\n",
              "6          7  ...          2\n",
              "7          8  ...          2\n",
              "8          9  ...          2\n",
              "9         10  ...          2\n",
              "10        11  ...          2\n",
              "11        12  ...          2\n",
              "12        13  ...          2\n",
              "13        14  ...          2\n",
              "14        15  ...          2\n",
              "15        16  ...          2\n",
              "16        17  ...          2\n",
              "17        18  ...          2\n",
              "18        19  ...          2\n",
              "19        20  ...          2\n",
              "\n",
              "[20 rows x 4 columns]"
            ]
          },
          "metadata": {
            "tags": []
          },
          "execution_count": 5
        }
      ]
    },
    {
      "cell_type": "code",
      "metadata": {
        "id": "LYUvRRFKVfMW",
        "colab_type": "code",
        "outputId": "316f18d7-1f9f-497b-bb49-5e5ceb976b8e",
        "colab": {
          "base_uri": "https://localhost:8080/",
          "height": 35
        }
      },
      "source": [
        "# check the shape of df\n",
        "data.shape"
      ],
      "execution_count": 6,
      "outputs": [
        {
          "output_type": "execute_result",
          "data": {
            "text/plain": [
              "(156060, 4)"
            ]
          },
          "metadata": {
            "tags": []
          },
          "execution_count": 6
        }
      ]
    },
    {
      "cell_type": "code",
      "metadata": {
        "id": "2MJg2VrqVfOv",
        "colab_type": "code",
        "colab": {}
      },
      "source": [
        "numSentences = data['SentenceId'].max()"
      ],
      "execution_count": 0,
      "outputs": []
    },
    {
      "cell_type": "code",
      "metadata": {
        "id": "QRwC2TRXVfcB",
        "colab_type": "code",
        "colab": {}
      },
      "source": [
        "# extract full sentences only from the dataset\n",
        "fullSentences = []\n",
        "curSentence = 0\n",
        "for i in range(data.shape[0]):\n",
        "  if data['SentenceId'][i]> curSentence:\n",
        "    fullSentences.append((data['Phrase'][i], data['Sentiment'][i]))\n",
        "    curSentence = curSentence +1"
      ],
      "execution_count": 0,
      "outputs": []
    },
    {
      "cell_type": "code",
      "metadata": {
        "id": "HbaAPmFDVfg_",
        "colab_type": "code",
        "outputId": "f21cbbff-4a80-4cde-813b-f16455f08e87",
        "colab": {
          "base_uri": "https://localhost:8080/",
          "height": 35
        }
      },
      "source": [
        "len(fullSentences)"
      ],
      "execution_count": 9,
      "outputs": [
        {
          "output_type": "execute_result",
          "data": {
            "text/plain": [
              "8544"
            ]
          },
          "metadata": {
            "tags": []
          },
          "execution_count": 9
        }
      ]
    },
    {
      "cell_type": "code",
      "metadata": {
        "id": "j-6HGOG6Vflc",
        "colab_type": "code",
        "colab": {}
      },
      "source": [
        "# put data into a df\n",
        "fullSentDf = pd.DataFrame(fullSentences,\n",
        "                                columns=['Phrase', 'Sentiment'])"
      ],
      "execution_count": 0,
      "outputs": []
    },
    {
      "cell_type": "code",
      "metadata": {
        "id": "lSR36t-CVfp9",
        "colab_type": "code",
        "outputId": "6240fc20-bfe6-40d3-e79b-91c86e5ee6d4",
        "colab": {
          "base_uri": "https://localhost:8080/",
          "height": 121
        }
      },
      "source": [
        "data['Sentiment'].value_counts()"
      ],
      "execution_count": 11,
      "outputs": [
        {
          "output_type": "execute_result",
          "data": {
            "text/plain": [
              "2    79582\n",
              "3    32927\n",
              "1    27273\n",
              "4     9206\n",
              "0     7072\n",
              "Name: Sentiment, dtype: int64"
            ]
          },
          "metadata": {
            "tags": []
          },
          "execution_count": 11
        }
      ]
    },
    {
      "cell_type": "code",
      "metadata": {
        "id": "a-0q_QDRVfoW",
        "colab_type": "code",
        "outputId": "beb6e976-f4b5-498f-b679-08ecafb89cc1",
        "colab": {
          "base_uri": "https://localhost:8080/",
          "height": 121
        }
      },
      "source": [
        "# Check class imbalance in full sentences\n",
        "fullSentDf['Sentiment'].value_counts()"
      ],
      "execution_count": 12,
      "outputs": [
        {
          "output_type": "execute_result",
          "data": {
            "text/plain": [
              "3    2325\n",
              "1    2203\n",
              "2    1659\n",
              "4    1282\n",
              "0    1075\n",
              "Name: Sentiment, dtype: int64"
            ]
          },
          "metadata": {
            "tags": []
          },
          "execution_count": 12
        }
      ]
    },
    {
      "cell_type": "code",
      "metadata": {
        "id": "djVRUjrtVfjY",
        "colab_type": "code",
        "outputId": "752df9dd-3c99-43be-c662-d0278af0755a",
        "colab": {
          "base_uri": "https://localhost:8080/",
          "height": 121
        }
      },
      "source": [
        "import nltk\n",
        "import random\n",
        "nltk.download('punkt')\n",
        "nltk.download('stopwords')\n",
        "nltk.download('wordnet')\n",
        "from nltk.tokenize import word_tokenize"
      ],
      "execution_count": 13,
      "outputs": [
        {
          "output_type": "stream",
          "text": [
            "[nltk_data] Downloading package punkt to /root/nltk_data...\n",
            "[nltk_data]   Unzipping tokenizers/punkt.zip.\n",
            "[nltk_data] Downloading package stopwords to /root/nltk_data...\n",
            "[nltk_data]   Unzipping corpora/stopwords.zip.\n",
            "[nltk_data] Downloading package wordnet to /root/nltk_data...\n",
            "[nltk_data]   Unzipping corpora/wordnet.zip.\n"
          ],
          "name": "stdout"
        }
      ]
    },
    {
      "cell_type": "code",
      "metadata": {
        "id": "tgbuXZIxVfei",
        "colab_type": "code",
        "colab": {}
      },
      "source": [
        "documents = []\n",
        "\n",
        "# Use only complete sentences\n",
        "for i in range(fullSentDf.shape[0]):\n",
        "  tmpWords = word_tokenize(fullSentDf['Phrase'][i])\n",
        "  documents.append((tmpWords, fullSentDf['Sentiment'][i]))"
      ],
      "execution_count": 0,
      "outputs": []
    },
    {
      "cell_type": "code",
      "metadata": {
        "id": "YfPBQz9JVfas",
        "colab_type": "code",
        "outputId": "6b6ab1d4-b8d7-4f64-f77f-1f478968bb04",
        "colab": {
          "base_uri": "https://localhost:8080/",
          "height": 55
        }
      },
      "source": [
        "random.seed(9001)\n",
        "random.shuffle(documents)\n",
        "print(documents[1][0])"
      ],
      "execution_count": 15,
      "outputs": [
        {
          "output_type": "stream",
          "text": [
            "['For', 'its', '100', 'minutes', 'running', 'time', ',', 'you', \"'ll\", 'wait', 'in', 'vain', 'for', 'a', 'movie', 'to', 'happen', '.']\n"
          ],
          "name": "stdout"
        }
      ]
    },
    {
      "cell_type": "code",
      "metadata": {
        "id": "vQFLzPrVVfXi",
        "colab_type": "code",
        "outputId": "b58918db-a013-400a-c734-b4e1dfd37279",
        "colab": {
          "base_uri": "https://localhost:8080/",
          "height": 35
        }
      },
      "source": [
        "from nltk.corpus import stopwords\n",
        "from nltk.stem import WordNetLemmatizer, PorterStemmer, LancasterStemmer\n",
        "porter = PorterStemmer()\n",
        "lancaster=LancasterStemmer()\n",
        "wordnet_lemmatizer = WordNetLemmatizer()\n",
        "stopwords_en = stopwords.words(\"english\")\n",
        "punctuations=\"?:!.,;'\\\"-()\"\n",
        "\n",
        "#parameters to adjust to see the impact on outcome\n",
        "remove_stopwords = True\n",
        "useStemming = False\n",
        "useLemma = True\n",
        "removePuncs = True\n",
        "\n",
        "for l in range(len(documents)):\n",
        "  label = documents[l][1]\n",
        "  tmpReview = []\n",
        "  for w in documents[l][0]:\n",
        "    newWord = w\n",
        "    if remove_stopwords and (w in stopwords_en):\n",
        "      continue\n",
        "    if removePuncs and (w in punctuations):\n",
        "      continue\n",
        "    if useStemming:\n",
        "      #newWord = porter.stem(newWord)\n",
        "      newWord = lancaster.stem(newWord)\n",
        "    if useLemma:\n",
        "      newWord = wordnet_lemmatizer.lemmatize(newWord)\n",
        "    tmpReview.append(newWord)\n",
        "  documents[l] = (' '.join(tmpReview), label)\n",
        "print(documents[2])"
      ],
      "execution_count": 16,
      "outputs": [
        {
          "output_type": "stream",
          "text": [
            "('Ian Holm conquers France earthy Napoleon', 3)\n"
          ],
          "name": "stdout"
        }
      ]
    },
    {
      "cell_type": "code",
      "metadata": {
        "id": "Jk6SuZSyVfVI",
        "colab_type": "code",
        "colab": {}
      },
      "source": [
        "all_data = pd.DataFrame(documents,\n",
        "                                columns=['text', 'sentiment'])\n",
        "# Splits the dataset so 70% is used for training and 30% for testing\n",
        "x_train_raw, x_test_raw, y_train_raw, y_test_raw = train_test_split(all_data['text'], all_data['sentiment'], test_size=0.3)"
      ],
      "execution_count": 0,
      "outputs": []
    },
    {
      "cell_type": "code",
      "metadata": {
        "id": "ztP2NQA5VfSo",
        "colab_type": "code",
        "colab": {}
      },
      "source": [
        "from sklearn.feature_extraction.text import TfidfVectorizer,CountVectorizer\n",
        "vectorizer = TfidfVectorizer(stop_words=\"english\",\n",
        "                           ngram_range=(1, 1))\n",
        "#vectorizer = CountVectorizer(stop_words=\"english\" , ngram_range=(1, 1))\n",
        "x_train = vectorizer.fit_transform(x_train_raw)\n",
        "y_train = y_train_raw\n",
        "x_test = vectorizer.transform(x_test_raw)\n",
        "y_test = y_test_raw"
      ],
      "execution_count": 0,
      "outputs": []
    },
    {
      "cell_type": "code",
      "metadata": {
        "id": "ASinbjQgWMdP",
        "colab_type": "code",
        "colab": {}
      },
      "source": [
        "# Converts the datasets to numpy arrays to work with our Keras model\n",
        "x_train_np = x_train.toarray()\n",
        "y_train_np = np.array(y_train)\n",
        "\n",
        "# Convert the testing data\n",
        "x_test_np = x_test.toarray()\n",
        "y_test_np = np.array(y_test)"
      ],
      "execution_count": 0,
      "outputs": []
    },
    {
      "cell_type": "code",
      "metadata": {
        "id": "9nMQwVQAWOK_",
        "colab_type": "code",
        "outputId": "57ea5736-1d11-4566-e1fc-c801d9b33056",
        "colab": {
          "base_uri": "https://localhost:8080/",
          "height": 52
        }
      },
      "source": [
        "#x_train_np = np.reshape(x_train_np, (x_train_np.shape[2],x_train_np.shape[1],x_train_np.shape[0]))\n",
        "print(x_train_np.shape)\n",
        "print(y_train_np.shape)"
      ],
      "execution_count": 20,
      "outputs": [
        {
          "output_type": "stream",
          "text": [
            "(5980, 11702)\n",
            "(5980,)\n"
          ],
          "name": "stdout"
        }
      ]
    },
    {
      "cell_type": "code",
      "metadata": {
        "id": "HyiK2gE8qWKh",
        "colab_type": "code",
        "outputId": "8efe4879-30d2-4df3-b66e-0b74ae57624f",
        "colab": {
          "base_uri": "https://localhost:8080/",
          "height": 35
        }
      },
      "source": [
        "# Converting 2-D to 3-D \n",
        "x_train_np = np.expand_dims(x_train_np, 2)\n",
        "x_test_np = np.expand_dims(x_test_np, 2)\n",
        "print(x_train_np.shape)"
      ],
      "execution_count": 21,
      "outputs": [
        {
          "output_type": "stream",
          "text": [
            "(5980, 11702, 1)\n"
          ],
          "name": "stdout"
        }
      ]
    },
    {
      "cell_type": "code",
      "metadata": {
        "id": "p7wXeNAOooxA",
        "colab_type": "code",
        "outputId": "1f644d18-bfef-4283-a18f-54c00a6466c2",
        "colab": {
          "base_uri": "https://localhost:8080/",
          "height": 116
        }
      },
      "source": [
        "\n",
        "from keras.utils import to_categorical\n",
        "y_train_np = to_categorical(y_train_np)\n",
        "y_test_np = to_categorical(y_test_np)\n",
        "print(y_train_np.shape)\n",
        "\n"
      ],
      "execution_count": 22,
      "outputs": [
        {
          "output_type": "stream",
          "text": [
            "Using TensorFlow backend.\n"
          ],
          "name": "stderr"
        },
        {
          "output_type": "display_data",
          "data": {
            "text/html": [
              "<p style=\"color: red;\">\n",
              "The default version of TensorFlow in Colab will soon switch to TensorFlow 2.x.<br>\n",
              "We recommend you <a href=\"https://www.tensorflow.org/guide/migrate\" target=\"_blank\">upgrade</a> now \n",
              "or ensure your notebook will continue to use TensorFlow 1.x via the <code>%tensorflow_version 1.x</code> magic:\n",
              "<a href=\"https://colab.research.google.com/notebooks/tensorflow_version.ipynb\" target=\"_blank\">more info</a>.</p>\n"
            ],
            "text/plain": [
              "<IPython.core.display.HTML object>"
            ]
          },
          "metadata": {
            "tags": []
          }
        },
        {
          "output_type": "stream",
          "text": [
            "(5980, 5)\n"
          ],
          "name": "stdout"
        }
      ]
    },
    {
      "cell_type": "code",
      "metadata": {
        "id": "OjHsA2b4WZW2",
        "colab_type": "code",
        "colab": {}
      },
      "source": [
        "# define the function for recall,precision,figure-of metric score\n",
        "from keras import backend as K\n",
        "def recall_m(y_true,y_pred):\n",
        "  true_positives = K.sum(K.round(K.clip(y_true*y_pred,0,1)))\n",
        "  possible_positives = K.sum(K.round(K.clip(y_true, 0,1)))\n",
        "  recall = true_positives / (possible_positives + K.epsilon())\n",
        "  return recall\n",
        "\n",
        "def precision_m(y_true, y_pred):\n",
        "  true_positives = K.sum(K.round(K.clip(y_true*y_pred, 0,1)))\n",
        "  predicted_positives = K.sum(K.round(K.clip(y_pred, 0, 1)))\n",
        "  precision = true_positives / (predicted_positives + K.epsilon())\n",
        "  return precision\n",
        "\n",
        "def f1_m(y_true, y_pred):\n",
        "  precision= precision_m(y_true, y_pred)\n",
        "  recall= recall_m(y_true, y_pred)\n",
        "  return 2*((precision*recall)/(precision+recall+K.epsilon()))"
      ],
      "execution_count": 0,
      "outputs": []
    },
    {
      "cell_type": "code",
      "metadata": {
        "id": "StURMLSCWeJn",
        "colab_type": "code",
        "colab": {}
      },
      "source": [
        "# import the neccesary libraries for the training the model\n",
        "from keras.models import Sequential\n",
        "from keras.layers import Conv1D, MaxPooling1D, Dense, Dropout, Flatten\n",
        "from keras.layers import Activation, Conv1D, GlobalMaxPooling1D\n",
        "from keras import optimizers\n",
        "from keras import layers"
      ],
      "execution_count": 0,
      "outputs": []
    },
    {
      "cell_type": "code",
      "metadata": {
        "id": "_8ImbbBEWgaa",
        "colab_type": "code",
        "colab": {}
      },
      "source": [
        "# define convolution neural network\n",
        "def cnn_model(data, num_class, opt):\n",
        "  model= Sequential()\n",
        "  model.add(Conv1D(filters=32, kernel_size=2, activation= 'relu', input_shape= (data.shape[1],data.shape[2])))\n",
        "  model.add(MaxPooling1D(pool_size=2))\n",
        "  model.add(Conv1D(filters=64, kernel_size=2, activation= 'relu'))\n",
        "  model.add(MaxPooling1D(pool_size=2))\n",
        "  model.add(Conv1D(filters=128, kernel_size=2, activation= 'relu'))\n",
        "  model.add(MaxPooling1D(pool_size=2))\n",
        "  model.add(Flatten())\n",
        "  model.add(Activation('relu'))\n",
        "  model.add(Dense(num_class))\n",
        "  model.add(Activation('softmax'))\n",
        "  model.compile(optimizer= opt, loss='categorical_crossentropy', metrics=['acc', f1_m, precision_m, recall_m])\n",
        "  \n",
        "  return model"
      ],
      "execution_count": 0,
      "outputs": []
    },
    {
      "cell_type": "code",
      "metadata": {
        "id": "H-qtPqE0Wi1g",
        "colab_type": "code",
        "outputId": "6a9bee05-a3b9-4b36-c9cb-d5397b886892",
        "colab": {
          "base_uri": "https://localhost:8080/",
          "height": 245
        }
      },
      "source": [
        "# assign values to variables\n",
        "batch_size= 64\n",
        "num_epochs= 10\n",
        "n_class = 5\n",
        "Nadam = optimizers.Nadam(lr = 1e-3 , beta_1=0.9, beta_2=0.999, epsilon=1e-08)\n",
        "# SGD = optimizers.SGD(lr=1e-5)\n",
        "# compile the model\n",
        "model=cnn_model(x_train_np, n_class, Nadam)"
      ],
      "execution_count": 26,
      "outputs": [
        {
          "output_type": "stream",
          "text": [
            "WARNING:tensorflow:From /usr/local/lib/python3.6/dist-packages/keras/backend/tensorflow_backend.py:66: The name tf.get_default_graph is deprecated. Please use tf.compat.v1.get_default_graph instead.\n",
            "\n",
            "WARNING:tensorflow:From /usr/local/lib/python3.6/dist-packages/keras/backend/tensorflow_backend.py:541: The name tf.placeholder is deprecated. Please use tf.compat.v1.placeholder instead.\n",
            "\n",
            "WARNING:tensorflow:From /usr/local/lib/python3.6/dist-packages/keras/backend/tensorflow_backend.py:4432: The name tf.random_uniform is deprecated. Please use tf.random.uniform instead.\n",
            "\n",
            "WARNING:tensorflow:From /usr/local/lib/python3.6/dist-packages/keras/backend/tensorflow_backend.py:4267: The name tf.nn.max_pool is deprecated. Please use tf.nn.max_pool2d instead.\n",
            "\n",
            "WARNING:tensorflow:From /usr/local/lib/python3.6/dist-packages/keras/optimizers.py:793: The name tf.train.Optimizer is deprecated. Please use tf.compat.v1.train.Optimizer instead.\n",
            "\n",
            "WARNING:tensorflow:From /usr/local/lib/python3.6/dist-packages/keras/backend/tensorflow_backend.py:3576: The name tf.log is deprecated. Please use tf.math.log instead.\n",
            "\n"
          ],
          "name": "stdout"
        }
      ]
    },
    {
      "cell_type": "code",
      "metadata": {
        "id": "pPm3qTNRWmN5",
        "colab_type": "code",
        "outputId": "e9f7f702-8480-4617-8e87-f0f27e2f5d31",
        "colab": {
          "base_uri": "https://localhost:8080/",
          "height": 731
        }
      },
      "source": [
        "# run the model\n",
        "x = model.fit(x_train_np, y_train_np, batch_size=batch_size, epochs=10, verbose=1,validation_data=(x_test_np,y_test_np))\n",
        "# save model with 10 epoch\n",
        "model.save('1116576_1dconv_reg.h5') "
      ],
      "execution_count": 27,
      "outputs": [
        {
          "output_type": "stream",
          "text": [
            "WARNING:tensorflow:From /tensorflow-1.15.0/python3.6/tensorflow_core/python/ops/math_grad.py:1424: where (from tensorflow.python.ops.array_ops) is deprecated and will be removed in a future version.\n",
            "Instructions for updating:\n",
            "Use tf.where in 2.0, which has the same broadcast rule as np.where\n",
            "WARNING:tensorflow:From /usr/local/lib/python3.6/dist-packages/keras/backend/tensorflow_backend.py:1033: The name tf.assign_add is deprecated. Please use tf.compat.v1.assign_add instead.\n",
            "\n",
            "WARNING:tensorflow:From /usr/local/lib/python3.6/dist-packages/keras/backend/tensorflow_backend.py:1020: The name tf.assign is deprecated. Please use tf.compat.v1.assign instead.\n",
            "\n",
            "WARNING:tensorflow:From /usr/local/lib/python3.6/dist-packages/keras/backend/tensorflow_backend.py:3005: The name tf.Session is deprecated. Please use tf.compat.v1.Session instead.\n",
            "\n",
            "Train on 5980 samples, validate on 2564 samples\n",
            "Epoch 1/10\n",
            "WARNING:tensorflow:From /usr/local/lib/python3.6/dist-packages/keras/backend/tensorflow_backend.py:190: The name tf.get_default_session is deprecated. Please use tf.compat.v1.get_default_session instead.\n",
            "\n",
            "WARNING:tensorflow:From /usr/local/lib/python3.6/dist-packages/keras/backend/tensorflow_backend.py:197: The name tf.ConfigProto is deprecated. Please use tf.compat.v1.ConfigProto instead.\n",
            "\n",
            "WARNING:tensorflow:From /usr/local/lib/python3.6/dist-packages/keras/backend/tensorflow_backend.py:207: The name tf.global_variables is deprecated. Please use tf.compat.v1.global_variables instead.\n",
            "\n",
            "WARNING:tensorflow:From /usr/local/lib/python3.6/dist-packages/keras/backend/tensorflow_backend.py:216: The name tf.is_variable_initialized is deprecated. Please use tf.compat.v1.is_variable_initialized instead.\n",
            "\n",
            "WARNING:tensorflow:From /usr/local/lib/python3.6/dist-packages/keras/backend/tensorflow_backend.py:223: The name tf.variables_initializer is deprecated. Please use tf.compat.v1.variables_initializer instead.\n",
            "\n",
            "5980/5980 [==============================] - 17s 3ms/step - loss: 1.5201 - acc: 0.3211 - f1_m: 0.0272 - precision_m: 0.2374 - recall_m: 0.0147 - val_loss: 1.4674 - val_acc: 0.3354 - val_f1_m: 0.0500 - val_precision_m: 0.5393 - val_recall_m: 0.0265\n",
            "Epoch 2/10\n",
            "5980/5980 [==============================] - 4s 613us/step - loss: 1.1571 - acc: 0.5229 - f1_m: 0.4163 - precision_m: 0.6469 - recall_m: 0.3134 - val_loss: 1.5879 - val_acc: 0.3284 - val_f1_m: 0.2357 - val_precision_m: 0.3650 - val_recall_m: 0.1751\n",
            "Epoch 3/10\n",
            "5980/5980 [==============================] - 4s 622us/step - loss: 0.8751 - acc: 0.6677 - f1_m: 0.6322 - precision_m: 0.7486 - recall_m: 0.5493 - val_loss: 1.7911 - val_acc: 0.3261 - val_f1_m: 0.2727 - val_precision_m: 0.3494 - val_recall_m: 0.2243\n",
            "Epoch 4/10\n",
            "5980/5980 [==============================] - 4s 616us/step - loss: 0.5647 - acc: 0.7968 - f1_m: 0.7913 - precision_m: 0.8412 - recall_m: 0.7482 - val_loss: 2.1865 - val_acc: 0.3370 - val_f1_m: 0.3022 - val_precision_m: 0.3426 - val_recall_m: 0.2707\n",
            "Epoch 5/10\n",
            "5980/5980 [==============================] - 4s 623us/step - loss: 0.3104 - acc: 0.9025 - f1_m: 0.8997 - precision_m: 0.9193 - recall_m: 0.8813 - val_loss: 3.1401 - val_acc: 0.3327 - val_f1_m: 0.3205 - val_precision_m: 0.3380 - val_recall_m: 0.3050\n",
            "Epoch 6/10\n",
            "5980/5980 [==============================] - 4s 625us/step - loss: 0.1542 - acc: 0.9543 - f1_m: 0.9544 - precision_m: 0.9632 - recall_m: 0.9460 - val_loss: 4.0315 - val_acc: 0.3257 - val_f1_m: 0.3205 - val_precision_m: 0.3301 - val_recall_m: 0.3116\n",
            "Epoch 7/10\n",
            "5980/5980 [==============================] - 4s 624us/step - loss: 0.0787 - acc: 0.9783 - f1_m: 0.9787 - precision_m: 0.9823 - recall_m: 0.9753 - val_loss: 4.8595 - val_acc: 0.3272 - val_f1_m: 0.3253 - val_precision_m: 0.3306 - val_recall_m: 0.3202\n",
            "Epoch 8/10\n",
            "5980/5980 [==============================] - 4s 614us/step - loss: 0.0435 - acc: 0.9883 - f1_m: 0.9888 - precision_m: 0.9911 - recall_m: 0.9865 - val_loss: 5.3616 - val_acc: 0.3222 - val_f1_m: 0.3193 - val_precision_m: 0.3233 - val_recall_m: 0.3155\n",
            "Epoch 9/10\n",
            "5980/5980 [==============================] - 4s 632us/step - loss: 0.0301 - acc: 0.9911 - f1_m: 0.9912 - precision_m: 0.9928 - recall_m: 0.9896 - val_loss: 5.6055 - val_acc: 0.3261 - val_f1_m: 0.3236 - val_precision_m: 0.3268 - val_recall_m: 0.3206\n",
            "Epoch 10/10\n",
            "5980/5980 [==============================] - 4s 623us/step - loss: 0.0236 - acc: 0.9938 - f1_m: 0.9935 - precision_m: 0.9955 - recall_m: 0.9916 - val_loss: 5.8688 - val_acc: 0.3225 - val_f1_m: 0.3156 - val_precision_m: 0.3198 - val_recall_m: 0.3116\n"
          ],
          "name": "stdout"
        }
      ]
    },
    {
      "cell_type": "code",
      "metadata": {
        "id": "RKe9rwFXWoeb",
        "colab_type": "code",
        "outputId": "0f7e319e-0040-476d-dc99-93296b8aff4c",
        "colab": {
          "base_uri": "https://localhost:8080/",
          "height": 104
        }
      },
      "source": [
        "def metrics(accuracy,f1_score,precision,recall):\n",
        "  print('CNN model performance')\n",
        "  print('Accuracy:', np.round(accuracy,2))\n",
        "  print('Precision: ', np.round(precision,2))\n",
        "  print(\"recall:\", np.round(recall,2))\n",
        "  print(\"f1score:\", np.round(f1_score,2))\n",
        "loss, accuracy, f1_score, precision, recall = model.evaluate(x_test_np, y_test_np, verbose=False)\n",
        "metrics(accuracy,f1_score,precision,recall)"
      ],
      "execution_count": 28,
      "outputs": [
        {
          "output_type": "stream",
          "text": [
            "CNN model performance\n",
            "Accuracy: 0.32\n",
            "Precision:  0.32\n",
            "recall: 0.31\n",
            "f1score: 0.32\n"
          ],
          "name": "stdout"
        }
      ]
    },
    {
      "cell_type": "code",
      "metadata": {
        "id": "Md-ac6oqWqZg",
        "colab_type": "code",
        "outputId": "21755574-c805-4c02-c560-490b7b982651",
        "colab": {
          "base_uri": "https://localhost:8080/",
          "height": 295
        }
      },
      "source": [
        "import matplotlib.pyplot as plt\n",
        "def plothist(hist):\n",
        "    plt.plot(hist.history['acc'])\n",
        "    plt.plot(hist.history['val_acc'])\n",
        "    plt.title('model accuracy')\n",
        "    plt.ylabel('accuracy')\n",
        "    plt.xlabel('epoch')\n",
        "    plt.legend(['train', 'test'], loc='upper left')\n",
        "    plt.show()\n",
        "plothist(x)"
      ],
      "execution_count": 29,
      "outputs": [
        {
          "output_type": "display_data",
          "data": {
            "image/png": "[encoded data removed]",
            "text/plain": [
              "<Figure size 432x288 with 1 Axes>"
            ]
          },
          "metadata": {
            "tags": []
          }
        }
      ]
    }
  ]
}